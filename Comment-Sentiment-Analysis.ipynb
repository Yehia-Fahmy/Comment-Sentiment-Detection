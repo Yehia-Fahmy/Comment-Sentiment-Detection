{
 "cells": [
  {
   "cell_type": "markdown",
   "metadata": {},
   "source": [
    "# Install and Import Dependencies"
   ]
  },
  {
   "cell_type": "code",
   "execution_count": 69,
   "metadata": {},
   "outputs": [
    {
     "name": "stderr",
     "output_type": "stream",
     "text": [
      "huggingface/tokenizers: The current process just got forked, after parallelism has already been used. Disabling parallelism to avoid deadlocks...\n",
      "To disable this warning, you can either:\n",
      "\t- Avoid using `tokenizers` before the fork if possible\n",
      "\t- Explicitly set the environment variable TOKENIZERS_PARALLELISM=(true | false)\n"
     ]
    },
    {
     "name": "stdout",
     "output_type": "stream",
     "text": [
      "Requirement already satisfied: torch in /Users/yehiafahmy/miniconda3/envs/tensorflow/lib/python3.10/site-packages (2.4.0)\n",
      "Requirement already satisfied: torchvision in /Users/yehiafahmy/miniconda3/envs/tensorflow/lib/python3.10/site-packages (0.19.0)\n",
      "Requirement already satisfied: torchaudio in /Users/yehiafahmy/miniconda3/envs/tensorflow/lib/python3.10/site-packages (2.4.0)\n",
      "Requirement already satisfied: networkx in /Users/yehiafahmy/miniconda3/envs/tensorflow/lib/python3.10/site-packages (from torch) (3.3)\n",
      "Requirement already satisfied: sympy in /Users/yehiafahmy/miniconda3/envs/tensorflow/lib/python3.10/site-packages (from torch) (1.13.1)\n",
      "Requirement already satisfied: filelock in /Users/yehiafahmy/miniconda3/envs/tensorflow/lib/python3.10/site-packages (from torch) (3.15.4)\n",
      "Requirement already satisfied: typing-extensions>=4.8.0 in /Users/yehiafahmy/miniconda3/envs/tensorflow/lib/python3.10/site-packages (from torch) (4.12.2)\n",
      "Requirement already satisfied: jinja2 in /Users/yehiafahmy/miniconda3/envs/tensorflow/lib/python3.10/site-packages (from torch) (3.1.2)\n",
      "Requirement already satisfied: fsspec in /Users/yehiafahmy/miniconda3/envs/tensorflow/lib/python3.10/site-packages (from torch) (2024.6.1)\n",
      "Requirement already satisfied: pillow!=8.3.*,>=5.3.0 in /Users/yehiafahmy/miniconda3/envs/tensorflow/lib/python3.10/site-packages (from torchvision) (9.4.0)\n",
      "Requirement already satisfied: numpy in /Users/yehiafahmy/miniconda3/envs/tensorflow/lib/python3.10/site-packages (from torchvision) (1.24.2)\n",
      "Requirement already satisfied: MarkupSafe>=2.0 in /Users/yehiafahmy/miniconda3/envs/tensorflow/lib/python3.10/site-packages (from jinja2->torch) (2.1.2)\n",
      "Requirement already satisfied: mpmath<1.4,>=1.1.0 in /Users/yehiafahmy/miniconda3/envs/tensorflow/lib/python3.10/site-packages (from sympy->torch) (1.3.0)\n"
     ]
    },
    {
     "name": "stderr",
     "output_type": "stream",
     "text": [
      "huggingface/tokenizers: The current process just got forked, after parallelism has already been used. Disabling parallelism to avoid deadlocks...\n",
      "To disable this warning, you can either:\n",
      "\t- Avoid using `tokenizers` before the fork if possible\n",
      "\t- Explicitly set the environment variable TOKENIZERS_PARALLELISM=(true | false)\n"
     ]
    },
    {
     "name": "stdout",
     "output_type": "stream",
     "text": [
      "Requirement already satisfied: transformers in /Users/yehiafahmy/miniconda3/envs/tensorflow/lib/python3.10/site-packages (4.44.0)\n",
      "Requirement already satisfied: requests in /Users/yehiafahmy/miniconda3/envs/tensorflow/lib/python3.10/site-packages (2.28.2)\n",
      "Requirement already satisfied: beautifulsoup4 in /Users/yehiafahmy/miniconda3/envs/tensorflow/lib/python3.10/site-packages (4.11.2)\n",
      "Requirement already satisfied: pandas in /Users/yehiafahmy/miniconda3/envs/tensorflow/lib/python3.10/site-packages (1.5.3)\n",
      "Requirement already satisfied: numpy in /Users/yehiafahmy/miniconda3/envs/tensorflow/lib/python3.10/site-packages (1.24.2)\n",
      "Requirement already satisfied: safetensors>=0.4.1 in /Users/yehiafahmy/miniconda3/envs/tensorflow/lib/python3.10/site-packages (from transformers) (0.4.4)\n",
      "Requirement already satisfied: filelock in /Users/yehiafahmy/miniconda3/envs/tensorflow/lib/python3.10/site-packages (from transformers) (3.15.4)\n",
      "Requirement already satisfied: pyyaml>=5.1 in /Users/yehiafahmy/miniconda3/envs/tensorflow/lib/python3.10/site-packages (from transformers) (6.0)\n",
      "Requirement already satisfied: tokenizers<0.20,>=0.19 in /Users/yehiafahmy/miniconda3/envs/tensorflow/lib/python3.10/site-packages (from transformers) (0.19.1)\n",
      "Requirement already satisfied: tqdm>=4.27 in /Users/yehiafahmy/miniconda3/envs/tensorflow/lib/python3.10/site-packages (from transformers) (4.64.1)\n",
      "Requirement already satisfied: regex!=2019.12.17 in /Users/yehiafahmy/miniconda3/envs/tensorflow/lib/python3.10/site-packages (from transformers) (2024.7.24)\n",
      "Requirement already satisfied: packaging>=20.0 in /Users/yehiafahmy/miniconda3/envs/tensorflow/lib/python3.10/site-packages (from transformers) (23.0)\n",
      "Requirement already satisfied: huggingface-hub<1.0,>=0.23.2 in /Users/yehiafahmy/miniconda3/envs/tensorflow/lib/python3.10/site-packages (from transformers) (0.24.5)\n",
      "Requirement already satisfied: idna<4,>=2.5 in /Users/yehiafahmy/miniconda3/envs/tensorflow/lib/python3.10/site-packages (from requests) (3.4)\n",
      "Requirement already satisfied: certifi>=2017.4.17 in /Users/yehiafahmy/miniconda3/envs/tensorflow/lib/python3.10/site-packages (from requests) (2022.12.7)\n",
      "Requirement already satisfied: urllib3<1.27,>=1.21.1 in /Users/yehiafahmy/miniconda3/envs/tensorflow/lib/python3.10/site-packages (from requests) (1.26.14)\n",
      "Requirement already satisfied: charset-normalizer<4,>=2 in /Users/yehiafahmy/miniconda3/envs/tensorflow/lib/python3.10/site-packages (from requests) (2.1.1)\n",
      "Requirement already satisfied: soupsieve>1.2 in /Users/yehiafahmy/miniconda3/envs/tensorflow/lib/python3.10/site-packages (from beautifulsoup4) (2.3.2.post1)\n",
      "Requirement already satisfied: python-dateutil>=2.8.1 in /Users/yehiafahmy/miniconda3/envs/tensorflow/lib/python3.10/site-packages (from pandas) (2.8.2)\n",
      "Requirement already satisfied: pytz>=2020.1 in /Users/yehiafahmy/miniconda3/envs/tensorflow/lib/python3.10/site-packages (from pandas) (2022.7.1)\n",
      "Requirement already satisfied: typing-extensions>=3.7.4.3 in /Users/yehiafahmy/miniconda3/envs/tensorflow/lib/python3.10/site-packages (from huggingface-hub<1.0,>=0.23.2->transformers) (4.12.2)\n",
      "Requirement already satisfied: fsspec>=2023.5.0 in /Users/yehiafahmy/miniconda3/envs/tensorflow/lib/python3.10/site-packages (from huggingface-hub<1.0,>=0.23.2->transformers) (2024.6.1)\n",
      "Requirement already satisfied: six>=1.5 in /Users/yehiafahmy/miniconda3/envs/tensorflow/lib/python3.10/site-packages (from python-dateutil>=2.8.1->pandas) (1.16.0)\n"
     ]
    }
   ],
   "source": [
    "!pip install torch torchvision torchaudio\n",
    "!pip install transformers requests beautifulsoup4 pandas numpy"
   ]
  },
  {
   "cell_type": "code",
   "execution_count": 70,
   "metadata": {},
   "outputs": [],
   "source": [
    "from transformers import AutoTokenizer, AutoModelForSequenceClassification\n",
    "import torch\n",
    "import requests\n",
    "from bs4 import BeautifulSoup\n",
    "import re\n",
    "import numpy as np\n",
    "import pandas as pd"
   ]
  },
  {
   "cell_type": "markdown",
   "metadata": {},
   "source": [
    "# Instantiate Model"
   ]
  },
  {
   "cell_type": "code",
   "execution_count": 71,
   "metadata": {},
   "outputs": [
    {
     "name": "stderr",
     "output_type": "stream",
     "text": [
      "/Users/yehiafahmy/miniconda3/envs/tensorflow/lib/python3.10/site-packages/transformers/tokenization_utils_base.py:1601: FutureWarning: `clean_up_tokenization_spaces` was not set. It will be set to `True` by default. This behavior will be depracted in transformers v4.45, and will be then set to `False` by default. For more details check this issue: https://github.com/huggingface/transformers/issues/31884\n",
      "  warnings.warn(\n"
     ]
    }
   ],
   "source": [
    "model = AutoModelForSequenceClassification.from_pretrained('nlptown/bert-base-multilingual-uncased-sentiment')\n",
    "tokenizer = AutoTokenizer.from_pretrained('nlptown/bert-base-multilingual-uncased-sentiment')\n"
   ]
  },
  {
   "cell_type": "markdown",
   "metadata": {},
   "source": [
    "# Basic Test"
   ]
  },
  {
   "cell_type": "code",
   "execution_count": 72,
   "metadata": {},
   "outputs": [
    {
     "name": "stdout",
     "output_type": "stream",
     "text": [
      "The score of this sentince is:  4\n"
     ]
    }
   ],
   "source": [
    "tokens1 = tokenizer.encode('This was a decent place to eat', return_tensors='pt')\n",
    "result = model(tokens1)\n",
    "print('The score of this sentince is: ', int(torch.argmax(result.logits))+1)"
   ]
  },
  {
   "cell_type": "markdown",
   "metadata": {},
   "source": [
    "# Collect Reviews"
   ]
  },
  {
   "cell_type": "code",
   "execution_count": 73,
   "metadata": {},
   "outputs": [],
   "source": [
    "r = requests.get('https://www.yelp.com/biz/kinkaku-izakaya-kitchener?osq=Restaurants')\n",
    "soup = BeautifulSoup(r.text, 'html.parser')\n",
    "regex = re.compile('.*comment.*')\n",
    "results = soup.find_all('p', {'class':regex})\n",
    "reviews = [result.text for result in results]"
   ]
  },
  {
   "cell_type": "code",
   "execution_count": 74,
   "metadata": {},
   "outputs": [],
   "source": [
    "df = pd.DataFrame(np.array(reviews), columns=['review'])\n"
   ]
  },
  {
   "cell_type": "code",
   "execution_count": 75,
   "metadata": {},
   "outputs": [],
   "source": [
    "def get_sentiment_score(review):\n",
    "    tokens = tokenizer.encode(review, return_tensors='pt')\n",
    "    result = model(tokens)\n",
    "    return int(torch.argmax(result.logits))+1"
   ]
  },
  {
   "cell_type": "markdown",
   "metadata": {},
   "source": [
    "# Calculate Sentiment of the Reviews"
   ]
  },
  {
   "cell_type": "code",
   "execution_count": 76,
   "metadata": {},
   "outputs": [
    {
     "data": {
      "text/html": [
       "<div>\n",
       "<style scoped>\n",
       "    .dataframe tbody tr th:only-of-type {\n",
       "        vertical-align: middle;\n",
       "    }\n",
       "\n",
       "    .dataframe tbody tr th {\n",
       "        vertical-align: top;\n",
       "    }\n",
       "\n",
       "    .dataframe thead th {\n",
       "        text-align: right;\n",
       "    }\n",
       "</style>\n",
       "<table border=\"1\" class=\"dataframe\">\n",
       "  <thead>\n",
       "    <tr style=\"text-align: right;\">\n",
       "      <th></th>\n",
       "      <th>review</th>\n",
       "      <th>sentiment</th>\n",
       "    </tr>\n",
       "  </thead>\n",
       "  <tbody>\n",
       "    <tr>\n",
       "      <th>0</th>\n",
       "      <td>My BF is an alum of UWaterloo and said this wa...</td>\n",
       "      <td>4</td>\n",
       "    </tr>\n",
       "    <tr>\n",
       "      <th>1</th>\n",
       "      <td>Waterloo has some hidden sushi places. I would...</td>\n",
       "      <td>3</td>\n",
       "    </tr>\n",
       "    <tr>\n",
       "      <th>2</th>\n",
       "      <td>We were here twice once for the dine in ayce a...</td>\n",
       "      <td>3</td>\n",
       "    </tr>\n",
       "    <tr>\n",
       "      <th>3</th>\n",
       "      <td>Visiting from another country -- loved the fac...</td>\n",
       "      <td>5</td>\n",
       "    </tr>\n",
       "    <tr>\n",
       "      <th>4</th>\n",
       "      <td>I loveeeee the food here, the ratio of salmon ...</td>\n",
       "      <td>5</td>\n",
       "    </tr>\n",
       "    <tr>\n",
       "      <th>5</th>\n",
       "      <td>Honestly, this was my go-to place for sushi du...</td>\n",
       "      <td>4</td>\n",
       "    </tr>\n",
       "    <tr>\n",
       "      <th>6</th>\n",
       "      <td>I'm I would say it was quite disappointing to ...</td>\n",
       "      <td>2</td>\n",
       "    </tr>\n",
       "    <tr>\n",
       "      <th>7</th>\n",
       "      <td>I was visiting my friend in Waterloo and for d...</td>\n",
       "      <td>5</td>\n",
       "    </tr>\n",
       "    <tr>\n",
       "      <th>8</th>\n",
       "      <td>Maybeeee the best sushi I ever had and I've ha...</td>\n",
       "      <td>5</td>\n",
       "    </tr>\n",
       "    <tr>\n",
       "      <th>9</th>\n",
       "      <td>This place is the best All You Can Eat (AYCE) ...</td>\n",
       "      <td>5</td>\n",
       "    </tr>\n",
       "  </tbody>\n",
       "</table>\n",
       "</div>"
      ],
      "text/plain": [
       "                                              review  sentiment\n",
       "0  My BF is an alum of UWaterloo and said this wa...          4\n",
       "1  Waterloo has some hidden sushi places. I would...          3\n",
       "2  We were here twice once for the dine in ayce a...          3\n",
       "3  Visiting from another country -- loved the fac...          5\n",
       "4  I loveeeee the food here, the ratio of salmon ...          5\n",
       "5  Honestly, this was my go-to place for sushi du...          4\n",
       "6  I'm I would say it was quite disappointing to ...          2\n",
       "7  I was visiting my friend in Waterloo and for d...          5\n",
       "8  Maybeeee the best sushi I ever had and I've ha...          5\n",
       "9  This place is the best All You Can Eat (AYCE) ...          5"
      ]
     },
     "execution_count": 76,
     "metadata": {},
     "output_type": "execute_result"
    }
   ],
   "source": [
    "df['sentiment'] = df['review'].apply(lambda x: get_sentiment_score(x[:512]))\n",
    "df"
   ]
  }
 ],
 "metadata": {
  "kernelspec": {
   "display_name": "Python 3.10 (tensorflow)",
   "language": "python",
   "name": "tensorflow"
  },
  "language_info": {
   "codemirror_mode": {
    "name": "ipython",
    "version": 3
   },
   "file_extension": ".py",
   "mimetype": "text/x-python",
   "name": "python",
   "nbconvert_exporter": "python",
   "pygments_lexer": "ipython3",
   "version": "3.10.9"
  }
 },
 "nbformat": 4,
 "nbformat_minor": 2
}
